{
  "metadata": {
    "language_info": {
      "file_extension": ".py",
      "mimetype": "text/x-python",
      "name": "python",
      "version": "3.10.2"
    },
    "kernelspec": {
      "name": "xeus-python",
      "display_name": "Python (XPython)",
      "language": "python"
    }
  },
  "nbformat_minor": 4,
  "nbformat": 4,
  "cells": [
    {
      "cell_type": "code",
      "source": "name='anton marquez!'\nantonaction= ' loves Abigail Todd'\nhowmuch= ' very much'\nfirstname= name[0].upper()+name[1:5]\nlastname= name[6].upper()+name[7:13]\nlastchar= name[13]\nprint(firstname+name[5]+lastname+antonaction+howmuch+lastchar)",
      "metadata": {
        "trusted": true
      },
      "execution_count": 26,
      "outputs": [
        {
          "name": "stdout",
          "text": "Anton Marquez loves Abigail Todd very much!\n",
          "output_type": "stream"
        }
      ]
    }
  ]
}